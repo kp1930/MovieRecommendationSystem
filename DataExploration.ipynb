{
  "nbformat": 4,
  "nbformat_minor": 0,
  "metadata": {
    "kernelspec": {
      "display_name": "Python 3",
      "language": "python",
      "name": "python3"
    },
    "language_info": {
      "codemirror_mode": {
        "name": "ipython",
        "version": 3
      },
      "file_extension": ".py",
      "mimetype": "text/x-python",
      "name": "python",
      "nbconvert_exporter": "python",
      "pygments_lexer": "ipython3",
      "version": "3.8.5"
    },
    "colab": {
      "name": "DataExploration.ipynb",
      "provenance": []
    }
  },
  "cells": [
    {
      "cell_type": "code",
      "metadata": {
        "colab": {
          "base_uri": "https://localhost:8080/"
        },
        "id": "2rTCWQQdK4hN",
        "outputId": "762326c2-649c-4190-fc86-0be4bbae2d98"
      },
      "source": [
        "!pip install findspark\n",
        "!pip install pyspark"
      ],
      "execution_count": null,
      "outputs": [
        {
          "output_type": "stream",
          "text": [
            "Collecting findspark\n",
            "  Downloading https://files.pythonhosted.org/packages/fc/2d/2e39f9a023479ea798eed4351cd66f163ce61e00c717e03c37109f00c0f2/findspark-1.4.2-py2.py3-none-any.whl\n",
            "Installing collected packages: findspark\n",
            "Successfully installed findspark-1.4.2\n",
            "Collecting pyspark\n",
            "\u001b[?25l  Downloading https://files.pythonhosted.org/packages/f0/26/198fc8c0b98580f617cb03cb298c6056587b8f0447e20fa40c5b634ced77/pyspark-3.0.1.tar.gz (204.2MB)\n",
            "\u001b[K     |████████████████████████████████| 204.2MB 64kB/s \n",
            "\u001b[?25hCollecting py4j==0.10.9\n",
            "\u001b[?25l  Downloading https://files.pythonhosted.org/packages/9e/b6/6a4fb90cd235dc8e265a6a2067f2a2c99f0d91787f06aca4bcf7c23f3f80/py4j-0.10.9-py2.py3-none-any.whl (198kB)\n",
            "\u001b[K     |████████████████████████████████| 204kB 44.3MB/s \n",
            "\u001b[?25hBuilding wheels for collected packages: pyspark\n",
            "  Building wheel for pyspark (setup.py) ... \u001b[?25l\u001b[?25hdone\n",
            "  Created wheel for pyspark: filename=pyspark-3.0.1-py2.py3-none-any.whl size=204612243 sha256=bce199c69675a95fd3357cadf7edcbcc83d09ca7312ef7688010a4847fb4fa03\n",
            "  Stored in directory: /root/.cache/pip/wheels/5e/bd/07/031766ca628adec8435bb40f0bd83bb676ce65ff4007f8e73f\n",
            "Successfully built pyspark\n",
            "Installing collected packages: py4j, pyspark\n",
            "Successfully installed py4j-0.10.9 pyspark-3.0.1\n"
          ],
          "name": "stdout"
        }
      ]
    },
    {
      "cell_type": "code",
      "metadata": {
        "id": "wjsdxULkKqV0"
      },
      "source": [
        "import numpy as np\n",
        "import pandas as pd\n",
        "import seaborn as sns\n",
        "import matplotlib.pyplot as plt\n",
        "import time\n",
        "import findspark\n",
        "import pyspark\n",
        "from pyspark.mllib.recommendation import ALS\n"
      ],
      "execution_count": null,
      "outputs": []
    },
    {
      "cell_type": "code",
      "metadata": {
        "id": "jy1lBq87KqV0"
      },
      "source": [
        "from pyspark.context import SparkContext\n",
        "from pyspark.sql.session import SparkSession\n",
        "sc = SparkContext('local')\n",
        "spark = SparkSession(sc)"
      ],
      "execution_count": null,
      "outputs": []
    },
    {
      "cell_type": "code",
      "metadata": {
        "id": "D-6cy7gWKqV0"
      },
      "source": [
        "# ratings = sc.textFile(\"ratings.csv\")\n",
        "\n",
        "\n",
        "movies = spark.read.load(\"movies.csv\", format='csv', header = True)\n",
        "ratings = spark.read.load(\"ratings.csv\", format='csv', header = True)\n",
        "links = spark.read.load(\"links.csv\", format='csv', header = True)\n",
        "tags = spark.read.load(\"tags.csv\", format='csv', header = True)"
      ],
      "execution_count": null,
      "outputs": []
    },
    {
      "cell_type": "code",
      "metadata": {
        "colab": {
          "base_uri": "https://localhost:8080/"
        },
        "id": "8-F-vachKqV0",
        "outputId": "63a2c560-a4f6-463c-8971-0460be71f3ef"
      },
      "source": [
        "movies.show(5)\n"
      ],
      "execution_count": null,
      "outputs": [
        {
          "output_type": "stream",
          "text": [
            "+-------+--------------------+--------------------+\n",
            "|movieId|               title|              genres|\n",
            "+-------+--------------------+--------------------+\n",
            "|      1|    Toy Story (1995)|Adventure|Animati...|\n",
            "|      2|      Jumanji (1995)|Adventure|Childre...|\n",
            "|      3|Grumpier Old Men ...|      Comedy|Romance|\n",
            "|      4|Waiting to Exhale...|Comedy|Drama|Romance|\n",
            "|      5|Father of the Bri...|              Comedy|\n",
            "+-------+--------------------+--------------------+\n",
            "only showing top 5 rows\n",
            "\n"
          ],
          "name": "stdout"
        }
      ]
    },
    {
      "cell_type": "code",
      "metadata": {
        "scrolled": true,
        "colab": {
          "base_uri": "https://localhost:8080/"
        },
        "id": "y9x84bbgKqV1",
        "outputId": "1e3b5a69-fe14-4842-bb40-237bdc859b5c"
      },
      "source": [
        "ratings.show(5)\n"
      ],
      "execution_count": null,
      "outputs": [
        {
          "output_type": "stream",
          "text": [
            "+------+-------+------+---------+\n",
            "|userId|movieId|rating|timestamp|\n",
            "+------+-------+------+---------+\n",
            "|     1|      1|   4.0|964982703|\n",
            "|     1|      3|   4.0|964981247|\n",
            "|     1|      6|   4.0|964982224|\n",
            "|     1|     47|   5.0|964983815|\n",
            "|     1|     50|   5.0|964982931|\n",
            "+------+-------+------+---------+\n",
            "only showing top 5 rows\n",
            "\n"
          ],
          "name": "stdout"
        }
      ]
    },
    {
      "cell_type": "code",
      "metadata": {
        "id": "Vr-s7TQyKqV4",
        "outputId": "8a8c43b2-59a0-43c6-98f4-c5661d6d46c7"
      },
      "source": [
        "links.show(5)\n"
      ],
      "execution_count": null,
      "outputs": [
        {
          "output_type": "stream",
          "text": [
            "+-------+-------+------+\n",
            "|movieId| imdbId|tmdbId|\n",
            "+-------+-------+------+\n",
            "|      1|0114709|   862|\n",
            "|      2|0113497|  8844|\n",
            "|      3|0113228| 15602|\n",
            "|      4|0114885| 31357|\n",
            "|      5|0113041| 11862|\n",
            "+-------+-------+------+\n",
            "only showing top 5 rows\n",
            "\n"
          ],
          "name": "stdout"
        }
      ]
    },
    {
      "cell_type": "code",
      "metadata": {
        "id": "fEKdLqe1KqV4",
        "outputId": "f118d384-d848-421d-816f-ea56cd35ddf9"
      },
      "source": [
        "tags.show(5)"
      ],
      "execution_count": null,
      "outputs": [
        {
          "output_type": "stream",
          "text": [
            "+------+-------+---------------+----------+\n",
            "|userId|movieId|            tag| timestamp|\n",
            "+------+-------+---------------+----------+\n",
            "|     2|  60756|          funny|1445714994|\n",
            "|     2|  60756|Highly quotable|1445714996|\n",
            "|     2|  60756|   will ferrell|1445714992|\n",
            "|     2|  89774|   Boxing story|1445715207|\n",
            "|     2|  89774|            MMA|1445715200|\n",
            "+------+-------+---------------+----------+\n",
            "only showing top 5 rows\n",
            "\n"
          ],
          "name": "stdout"
        }
      ]
    },
    {
      "cell_type": "code",
      "metadata": {
        "id": "yo00RTAaKqV5",
        "outputId": "b9639770-6414-4f4d-92b6-0c59b514c28c"
      },
      "source": [
        "movies.groupby(\"genres\").count().orderBy(\"count\", ascending=False).show()"
      ],
      "execution_count": null,
      "outputs": [
        {
          "output_type": "stream",
          "text": [
            "+--------------------+-----+\n",
            "|              genres|count|\n",
            "+--------------------+-----+\n",
            "|               Drama| 1053|\n",
            "|              Comedy|  946|\n",
            "|        Comedy|Drama|  435|\n",
            "|      Comedy|Romance|  363|\n",
            "|       Drama|Romance|  349|\n",
            "|         Documentary|  339|\n",
            "|Comedy|Drama|Romance|  276|\n",
            "|      Drama|Thriller|  168|\n",
            "|              Horror|  167|\n",
            "|     Horror|Thriller|  135|\n",
            "|         Crime|Drama|  134|\n",
            "|Crime|Drama|Thriller|  125|\n",
            "|           Drama|War|  114|\n",
            "|        Comedy|Crime|  101|\n",
            "|       Action|Comedy|   92|\n",
            "|            Thriller|   84|\n",
            "|     Children|Comedy|   74|\n",
            "|       Comedy|Horror|   69|\n",
            "|Action|Adventure|...|   66|\n",
            "|Action|Crime|Thri...|   66|\n",
            "+--------------------+-----+\n",
            "only showing top 20 rows\n",
            "\n"
          ],
          "name": "stdout"
        }
      ]
    },
    {
      "cell_type": "code",
      "metadata": {
        "id": "B6oiunExKqV5",
        "outputId": "93ae4bb1-7b20-46ea-8512-044339571396"
      },
      "source": [
        "print('Distinct values of ratings:')\n",
        "print(sorted(ratings.select('rating').distinct().rdd.map(lambda r: r[0]).collect()))"
      ],
      "execution_count": null,
      "outputs": [
        {
          "output_type": "stream",
          "text": [
            "Distinct values of ratings:\n",
            "['0.5', '1.0', '1.5', '2.0', '2.5', '3.0', '3.5', '4.0', '4.5', '5.0']\n"
          ],
          "name": "stdout"
        }
      ]
    },
    {
      "cell_type": "code",
      "metadata": {
        "id": "dvVQGbQqKqV5",
        "outputId": "f326f64f-1add-4310-df9b-18320587934b"
      },
      "source": [
        "tmp1 = ratings.groupBy(\"userID\").count().select('count').rdd.min()[0]\n",
        "tmp2 = ratings.groupBy(\"movieId\").count().select('count').rdd.min()[0]\n",
        "print('For the users that rated movies and the movies that were rated:')\n",
        "print('Minimum number of ratings per user is {}'.format(tmp1))\n",
        "print('Minimum number of ratings per movie is {}'.format(tmp2))"
      ],
      "execution_count": null,
      "outputs": [
        {
          "output_type": "stream",
          "text": [
            "For the users that rated movies and the movies that were rated:\n",
            "Minimum number of ratings per user is 20\n",
            "Minimum number of ratings per movie is 1\n"
          ],
          "name": "stdout"
        }
      ]
    },
    {
      "cell_type": "code",
      "metadata": {
        "id": "L8GshQ0QKqV5",
        "outputId": "e3b60296-c222-4c94-df56-fc9cccb54baa"
      },
      "source": [
        "tmp1 = ratings.groupBy(\"movieId\").count().withColumnRenamed(\"count\", \"rating count\")\\\n",
        ".groupBy(\"rating count\").count().orderBy('rating count').first()[1]\n",
        "# Or use pandas: tmp1 = sum(ratings.groupBy(\"movieId\").count().toPandas()['count'] == 1)\n",
        "tmp2 = ratings.select('movieId').distinct().count()\n",
        "print('{} out of {} movies are rated by only one user'.format(tmp1, tmp2))"
      ],
      "execution_count": null,
      "outputs": [
        {
          "output_type": "stream",
          "text": [
            "3446 out of 9724 movies are rated by only one user\n"
          ],
          "name": "stdout"
        }
      ]
    },
    {
      "cell_type": "code",
      "metadata": {
        "id": "g3QSS2oZKqV5",
        "outputId": "fa6b42df-6e78-405f-d38d-3decc2e10a5c"
      },
      "source": [
        "print(\"Number of users:\", ratings.select('userId').union(tags.select('userId')).distinct().count())"
      ],
      "execution_count": null,
      "outputs": [
        {
          "output_type": "stream",
          "text": [
            "Number of users: 610\n"
          ],
          "name": "stdout"
        }
      ]
    },
    {
      "cell_type": "code",
      "metadata": {
        "id": "t-ldbAzVKqV6",
        "outputId": "6fed010e-ef5c-42fb-c447-c90595bb1206"
      },
      "source": [
        "print(\"Number of users who rated movies:\", ratings.select('userId').distinct().count())"
      ],
      "execution_count": null,
      "outputs": [
        {
          "output_type": "stream",
          "text": [
            "Number of users who rated movies: 610\n"
          ],
          "name": "stdout"
        }
      ]
    },
    {
      "cell_type": "code",
      "metadata": {
        "id": "Pvd7ZMrMKqV6",
        "outputId": "ff80f54b-bb1a-4be0-cb1a-9b8f76abdab7"
      },
      "source": [
        "print(\"Number of movies:\", ratings.select('movieId').union(tags.select('movieId')).distinct().count())"
      ],
      "execution_count": null,
      "outputs": [
        {
          "output_type": "stream",
          "text": [
            "Number of movies: 9742\n"
          ],
          "name": "stdout"
        }
      ]
    },
    {
      "cell_type": "code",
      "metadata": {
        "id": "9OVOi2RMKqV6",
        "outputId": "7b5a250f-0a35-4a5b-ecbb-b14f3fe0f0e8"
      },
      "source": [
        "print(\"Number of rated movies:\", ratings.select('movieId').distinct().count())"
      ],
      "execution_count": null,
      "outputs": [
        {
          "output_type": "stream",
          "text": [
            "Number of rated movies: 9724\n"
          ],
          "name": "stdout"
        }
      ]
    },
    {
      "cell_type": "code",
      "metadata": {
        "id": "jBoqsZc3KqV6"
      },
      "source": [
        "ratings = ratings.select(\"userId\", \"movieId\", \"rating\")"
      ],
      "execution_count": null,
      "outputs": []
    },
    {
      "cell_type": "code",
      "metadata": {
        "colab": {
          "base_uri": "https://localhost:8080/"
        },
        "id": "uOdDjd62KqV6",
        "outputId": "4f6b52d3-3bab-4658-9b66-3094ca3466b5"
      },
      "source": [
        "ratings.printSchema()"
      ],
      "execution_count": null,
      "outputs": [
        {
          "output_type": "stream",
          "text": [
            "root\n",
            " |-- userId: string (nullable = true)\n",
            " |-- movieId: string (nullable = true)\n",
            " |-- rating: string (nullable = true)\n",
            "\n"
          ],
          "name": "stdout"
        }
      ]
    },
    {
      "cell_type": "code",
      "metadata": {
        "id": "oQpn2DC7KqV6"
      },
      "source": [
        "df = ratings.withColumn('userId', ratings['userId'].cast('int')).\\\n",
        "withColumn('movieId', ratings['movieId'].cast('int')).withColumn('rating', ratings['rating'].cast('float'))"
      ],
      "execution_count": null,
      "outputs": []
    },
    {
      "cell_type": "code",
      "metadata": {
        "colab": {
          "base_uri": "https://localhost:8080/"
        },
        "id": "U6KbbL9CKqV6",
        "outputId": "80cc70e6-d1f1-4760-fe63-eb589cb5568f"
      },
      "source": [
        "df.printSchema()"
      ],
      "execution_count": null,
      "outputs": [
        {
          "output_type": "stream",
          "text": [
            "root\n",
            " |-- userId: integer (nullable = true)\n",
            " |-- movieId: integer (nullable = true)\n",
            " |-- rating: float (nullable = true)\n",
            "\n"
          ],
          "name": "stdout"
        }
      ]
    },
    {
      "cell_type": "code",
      "metadata": {
        "id": "ELXyzA6_KqV6"
      },
      "source": [
        "train, validation, test = df.randomSplit([0.6,0.2,0.2], seed = 0)\n"
      ],
      "execution_count": null,
      "outputs": []
    },
    {
      "cell_type": "code",
      "metadata": {
        "id": "a1R7a_oqKqV6",
        "outputId": "af6802ef-37d5-4703-f748-e151997dc0f0"
      },
      "source": [
        "print (\"The number of ratings in each set: {}, {}, {}\".format(train.count(), validation.count(), test.count())\n",
        ")"
      ],
      "execution_count": null,
      "outputs": [
        {
          "output_type": "stream",
          "text": [
            "The number of ratings in each set: 60435, 20052, 20349\n"
          ],
          "name": "stdout"
        }
      ]
    },
    {
      "cell_type": "code",
      "metadata": {
        "colab": {
          "base_uri": "https://localhost:8080/"
        },
        "id": "Om2sBV4tKqV6",
        "outputId": "ec67c709-25d8-4300-86d0-6cea1b999063"
      },
      "source": [
        "mean_rating = train.groupby('movieId').mean().select('movieId','avg(rating)')\n",
        "mean_rating = mean_rating.withColumnRenamed('avg(rating)','prediction')\n",
        "mean_rating.show(5)"
      ],
      "execution_count": null,
      "outputs": [
        {
          "output_type": "stream",
          "text": [
            "+-------+------------------+\n",
            "|movieId|        prediction|\n",
            "+-------+------------------+\n",
            "|   1580|3.4257425742574257|\n",
            "|   3175|3.5869565217391304|\n",
            "|   1088|              3.34|\n",
            "|  32460| 4.333333333333333|\n",
            "|  44022|               3.0|\n",
            "+-------+------------------+\n",
            "only showing top 5 rows\n",
            "\n"
          ],
          "name": "stdout"
        }
      ]
    },
    {
      "cell_type": "code",
      "metadata": {
        "colab": {
          "base_uri": "https://localhost:8080/"
        },
        "id": "lY5HeN9xKqV6",
        "outputId": "5a189d1d-23d2-44eb-a28f-9af0765b6149"
      },
      "source": [
        "test.createOrReplaceTempView(\"test\")\n",
        "mean_rating.createOrReplaceTempView(\"mean_rating\")\n",
        "\n",
        "sqlDF = spark.sql(\"select test.*, mean_rating.prediction \\\n",
        "                   from test join mean_rating \\\n",
        "                   on test.movieId = mean_rating.movieId\")\n",
        "sqlDF.show(5)"
      ],
      "execution_count": null,
      "outputs": [
        {
          "output_type": "stream",
          "text": [
            "+------+-------+------+------------------+\n",
            "|userId|movieId|rating|        prediction|\n",
            "+------+-------+------+------------------+\n",
            "|   607|   1580|   3.0|3.4257425742574257|\n",
            "|   599|   1580|   3.0|3.4257425742574257|\n",
            "|   580|   1580|   4.0|3.4257425742574257|\n",
            "|   579|   1580|   4.0|3.4257425742574257|\n",
            "|   559|   1580|   5.0|3.4257425742574257|\n",
            "+------+-------+------+------------------+\n",
            "only showing top 5 rows\n",
            "\n"
          ],
          "name": "stdout"
        }
      ]
    },
    {
      "cell_type": "code",
      "metadata": {
        "id": "eaKpuVzNKqV6"
      },
      "source": [
        "from pyspark.ml.evaluation import RegressionEvaluator\n",
        "evaluator = RegressionEvaluator(metricName=\"rmse\", labelCol=\"rating\",\n",
        "                                predictionCol=\"prediction\")\n",
        "\n",
        "def RMSE(predictions):\n",
        "    return evaluator.evaluate(predictions)"
      ],
      "execution_count": null,
      "outputs": []
    },
    {
      "cell_type": "code",
      "metadata": {
        "colab": {
          "base_uri": "https://localhost:8080/"
        },
        "id": "Lt0tFJBoKqV6",
        "outputId": "8344c8fc-1a09-4152-c72a-116bb3078dab"
      },
      "source": [
        "print ('Using the mean rating of each movie as the prediction, the testing RMSE is ' + str(RMSE(sqlDF)))\n"
      ],
      "execution_count": null,
      "outputs": [
        {
          "output_type": "stream",
          "text": [
            "Using the mean rating of each movie as the prediction, the testing RMSE is 0.9738656835815092\n"
          ],
          "name": "stdout"
        }
      ]
    },
    {
      "cell_type": "code",
      "metadata": {
        "id": "DHiWOCXeKqV6"
      },
      "source": [
        "from pyspark.ml.recommendation import ALS\n",
        "\n",
        "def GridSearch(train, valid, num_iterations, reg_param, n_factors):\n",
        "    min_rmse = float('inf')\n",
        "    best_n = -1\n",
        "    best_reg = 0\n",
        "    best_model = None\n",
        "    for n in n_factors:\n",
        "        for reg in reg_param:\n",
        "            als = ALS(rank = n, \n",
        "                      maxIter = num_iterations, \n",
        "                      seed = 0, \n",
        "                      regParam = reg,\n",
        "                      userCol=\"userId\", \n",
        "                      itemCol=\"movieId\", \n",
        "                      ratingCol=\"rating\", \n",
        "                      coldStartStrategy=\"drop\")            \n",
        "            model = als.fit(train)\n",
        "            predictions = model.transform(valid)\n",
        "            rmse = RMSE(predictions)     \n",
        "            print ('{} latent factors and regularization = {}: validation RMSE is {}'.format(n, reg, rmse))\n",
        "            if rmse < min_rmse:\n",
        "                min_rmse = rmse\n",
        "                best_n = n\n",
        "                best_reg = reg\n",
        "                best_model = model\n",
        "                \n",
        "    pred = best_model.transform(train)\n",
        "    train_rmse = RMSE(pred)\n",
        "    print ('\\nThe best model has {} latent factors and regularization = {}:'.format(best_n, best_reg))\n",
        "    print ('traning RMSE is {}; validation RMSE is {}'.format(train_rmse, min_rmse))\n",
        "    return best_model"
      ],
      "execution_count": null,
      "outputs": []
    },
    {
      "cell_type": "code",
      "metadata": {
        "colab": {
          "base_uri": "https://localhost:8080/"
        },
        "id": "UtpsQ2k4KqV6",
        "outputId": "d87e98db-09bd-4f4b-bee1-612060130eaf"
      },
      "source": [
        "num_iterations = 10\n",
        "ranks = [6, 8, 10, 12]\n",
        "reg_params = [0.05, 0.1, 0.2, 0.4, 0.8]\n",
        "\n",
        "start_time = time.time()\n",
        "final_model = GridSearch(train, validation, num_iterations, reg_params, ranks)\n",
        "print ('Total Runtime: {:.2f} seconds'.format(time.time() - start_time))"
      ],
      "execution_count": null,
      "outputs": [
        {
          "output_type": "stream",
          "text": [
            "6 latent factors and regularization = 0.05: validation RMSE is 0.9774929307576413\n",
            "6 latent factors and regularization = 0.1: validation RMSE is 0.9129091171232059\n",
            "6 latent factors and regularization = 0.2: validation RMSE is 0.8951553364405104\n",
            "6 latent factors and regularization = 0.4: validation RMSE is 0.9694803184332064\n",
            "6 latent factors and regularization = 0.8: validation RMSE is 1.1934058861934433\n",
            "8 latent factors and regularization = 0.05: validation RMSE is 0.9911454460293756\n",
            "8 latent factors and regularization = 0.1: validation RMSE is 0.9168968721788989\n",
            "8 latent factors and regularization = 0.2: validation RMSE is 0.8984989583931352\n",
            "8 latent factors and regularization = 0.4: validation RMSE is 0.9702570888476013\n",
            "8 latent factors and regularization = 0.8: validation RMSE is 1.1934001728703625\n",
            "10 latent factors and regularization = 0.05: validation RMSE is 0.9978579793437548\n",
            "10 latent factors and regularization = 0.1: validation RMSE is 0.9176672176926329\n",
            "10 latent factors and regularization = 0.2: validation RMSE is 0.8987281159490742\n",
            "10 latent factors and regularization = 0.4: validation RMSE is 0.9695217434907198\n",
            "10 latent factors and regularization = 0.8: validation RMSE is 1.1934037204112675\n",
            "12 latent factors and regularization = 0.05: validation RMSE is 1.0053856061083333\n",
            "12 latent factors and regularization = 0.1: validation RMSE is 0.9177483844429296\n",
            "12 latent factors and regularization = 0.2: validation RMSE is 0.9000614062746513\n",
            "12 latent factors and regularization = 0.4: validation RMSE is 0.9701108532733748\n",
            "12 latent factors and regularization = 0.8: validation RMSE is 1.1934007250906973\n",
            "\n",
            "The best model has 6 latent factors and regularization = 0.2:\n",
            "traning RMSE is 0.6876113839813297; validation RMSE is 0.8951553364405104\n",
            "Total Runtime: 321.34 seconds\n"
          ],
          "name": "stdout"
        }
      ]
    },
    {
      "cell_type": "code",
      "metadata": {
        "colab": {
          "base_uri": "https://localhost:8080/"
        },
        "id": "vQ5rZ4OEKqV7",
        "outputId": "f9901387-eee8-4ca0-cc64-c38a079dd01c"
      },
      "source": [
        "\n",
        "num_iterations = 15\n",
        "ranks = [7, 8, 9]\n",
        "reg_params = [0.1, 0.2, 0.3]\n",
        "\n",
        "final_model = GridSearch(train, validation, num_iterations, reg_params, ranks)"
      ],
      "execution_count": null,
      "outputs": [
        {
          "output_type": "stream",
          "text": [
            "7 latent factors and regularization = 0.1: validation RMSE is 0.9171975613567398\n",
            "7 latent factors and regularization = 0.2: validation RMSE is 0.8987595837337011\n",
            "7 latent factors and regularization = 0.3: validation RMSE is 0.926549261122086\n",
            "8 latent factors and regularization = 0.1: validation RMSE is 0.9166986190332322\n",
            "8 latent factors and regularization = 0.2: validation RMSE is 0.8977974062879039\n",
            "8 latent factors and regularization = 0.3: validation RMSE is 0.926399403602508\n",
            "9 latent factors and regularization = 0.1: validation RMSE is 0.9144883067966653\n",
            "9 latent factors and regularization = 0.2: validation RMSE is 0.8987557279069118\n",
            "9 latent factors and regularization = 0.3: validation RMSE is 0.9265441457847975\n",
            "\n",
            "The best model has 8 latent factors and regularization = 0.2:\n",
            "traning RMSE is 0.6761050651985206; validation RMSE is 0.8977974062879039\n"
          ],
          "name": "stdout"
        }
      ]
    },
    {
      "cell_type": "code",
      "metadata": {
        "id": "Bcd3NuD2KqV7",
        "outputId": "692a1af8-a6d3-4981-e68c-e12911acf37d"
      },
      "source": [
        "pred_test = final_model.transform(test)\n",
        "print ('The testing RMSE is ' + str(RMSE(pred_test)))"
      ],
      "execution_count": null,
      "outputs": [
        {
          "output_type": "stream",
          "text": [
            "The testing RMSE is 0.8973276428793233\n"
          ],
          "name": "stdout"
        }
      ]
    },
    {
      "cell_type": "code",
      "metadata": {
        "id": "jU83qSj6KqV7"
      },
      "source": [
        ""
      ],
      "execution_count": null,
      "outputs": []
    }
  ]
}